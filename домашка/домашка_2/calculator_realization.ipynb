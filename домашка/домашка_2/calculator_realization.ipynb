import requests
from IPython.display import display
import ipywidgets as widgets

# Функция для отправки запроса и получения ответа
def send_request(expression):
    url = 'http://localhost:5000/calculate'  # URL вашего Flask-приложения
    response = requests.post(url, json={'expression': expression})
    if response.status_code == 200:
        return f"Ответ: {response.json()['result']}"
    else:
        return f"Ошибка: {response.json()['error']}"

# Виджет для ввода выражения
input_box = widgets.Text(
    description='Ввод:',
    placeholder='Введите математическое выражение'
)

# Кнопка для отправки запроса
button = widgets.Button(description="Вычислить")

# Виджет для вывода результатов
output = widgets.Output()

# Функция обработчик нажатия кнопки
def on_button_clicked(b):
    with output:
        output.clear_output()  # Очистка предыдущего вывода
        print(send_request(input_box.value))

button.on_click(on_button_clicked)

# Отображение виджетов
display(input_box, button, output)
