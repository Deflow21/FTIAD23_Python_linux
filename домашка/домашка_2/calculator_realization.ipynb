{
 "cells": [
  {
   "cell_type": "code",
   "execution_count": null,
   "id": "a53ea2e9",
   "metadata": {},
   "outputs": [],
   "source": [
    "import requests\n",
    "from IPython.display import display\n",
    "import ipywidgets as widgets\n",
    "\n",
    "# Функция для отправки запроса и получения ответа\n",
    "def send_request(expression):\n",
    "    url = 'http://localhost:5000/calculate'  # URL вашего Flask-приложения\n",
    "    response = requests.post(url, json={'expression': expression})\n",
    "    if response.status_code == 200:\n",
    "        return f\"Ответ: {response.json()['result']}\"\n",
    "    else:\n",
    "        return f\"Ошибка: {response.json()['error']}\"\n",
    "\n",
    "# Виджет для ввода выражения\n",
    "input_box = widgets.Text(\n",
    "    description='Ввод:',\n",
    "    placeholder='Введите математическое выражение'\n",
    ")\n",
    "\n",
    "# Кнопка для отправки запроса\n",
    "button = widgets.Button(description=\"Вычислить\")\n",
    "\n",
    "# Виджет для вывода результатов\n",
    "output = widgets.Output()\n",
    "\n",
    "# Функция обработчик нажатия кнопки\n",
    "def on_button_clicked(b):\n",
    "    with output:\n",
    "        output.clear_output()  # Очистка предыдущего вывода\n",
    "        print(send_request(input_box.value))\n",
    "\n",
    "button.on_click(on_button_clicked)\n",
    "\n",
    "# Отображение виджетов\n",
    "display(input_box, button, output)"
   ]
  }
 ],
 "metadata": {
  "kernelspec": {
   "display_name": "Python 3 (ipykernel)",
   "language": "python",
   "name": "python3"
  },
  "language_info": {
   "codemirror_mode": {
    "name": "ipython",
    "version": 3
   },
   "file_extension": ".py",
   "mimetype": "text/x-python",
   "name": "python",
   "nbconvert_exporter": "python",
   "pygments_lexer": "ipython3",
   "version": "3.7.12"
  },
  "toc": {
   "base_numbering": 1,
   "nav_menu": {},
   "number_sections": true,
   "sideBar": true,
   "skip_h1_title": false,
   "title_cell": "Table of Contents",
   "title_sidebar": "Contents",
   "toc_cell": false,
   "toc_position": {},
   "toc_section_display": true,
   "toc_window_display": false
  }
 },
 "nbformat": 4,
 "nbformat_minor": 5
}
