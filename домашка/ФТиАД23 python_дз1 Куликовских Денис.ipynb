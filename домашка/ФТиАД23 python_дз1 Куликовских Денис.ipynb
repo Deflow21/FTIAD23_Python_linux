{
 "cells": [
  {
   "cell_type": "markdown",
   "id": "11fcf617",
   "metadata": {},
   "source": [
    "Всем привет! \n",
    "\n",
    "Это ваше первое домашнее задание))\n",
    "\n",
    "Списывать нельзя, гуглить можно) \n",
    "\n",
    "Что надо помнить: пишите код красиво, контролируйте код-стайл, нормальную структуру, импорты и все, что мы говорили на занятиях.\n",
    "\n",
    "Дедлайн: пятница 17 ноября в 23:59\n",
    "\n",
    "Решения на почту - skvortsovg@yandex.ru\n",
    "\n",
    "Пожалуйста, напишите в теме письма так: **ФТиАД23: python_дз1 Фамилия Имя**"
   ]
  },
  {
   "cell_type": "markdown",
   "id": "78d6b9ea",
   "metadata": {},
   "source": [
    "### Задача 1 (расстояние между точками на земле)\n",
    "\n",
    "Напишите программу, в которой пользователь будет вводить координаты двух точек на Земле (широту и долготу) в градусах. На выходе должно получиться расстояние между этими точками при следовании по кратчайшему пути по поверхности планеты.\n",
    "\n"
   ]
  },
  {
   "cell_type": "code",
   "execution_count": 5,
   "id": "06eef44a",
   "metadata": {
    "scrolled": true
   },
   "outputs": [
    {
     "name": "stdout",
     "output_type": "stream",
     "text": [
      "Введите широту первой точки: 55.753974521536804\n",
      "Введите долготу первой точки: 37.62080305895929\n",
      "Введите широту второй точки: 38.872057242278004\n",
      "Введите долготу второй точки: -77.05623471718202\n",
      "Расстояние между точками: 7825.36 километров\n"
     ]
    }
   ],
   "source": [
    "## Для расчета будет юзать формулу гаверсинусов\n",
    "\n",
    "import math\n",
    "\n",
    "def haversine(lat1, lon1, lat2, lon2):\n",
    "    # радиус Земли в километрах\n",
    "    R = 6371.0\n",
    "\n",
    "    # перевод координат в радианы\n",
    "    lat1_rad = math.radians(lat1)\n",
    "    lon1_rad = math.radians(lon1)\n",
    "    lat2_rad = math.radians(lat2)\n",
    "    lon2_rad = math.radians(lon2)\n",
    "\n",
    "    # разницы в координатах\n",
    "    dlat = lat2_rad - lat1_rad\n",
    "    dlon = lon2_rad - lon1_rad\n",
    "\n",
    "    # гаверсинус\n",
    "    a = math.sin(dlat / 2)**2 + math.cos(lat1_rad) * math.cos(lat2_rad) * math.sin(dlon / 2)**2\n",
    "    \n",
    "    # расстояние\n",
    "    distance = R * (2 * math.atan2(math.sqrt(a), math.sqrt(1 - a)))\n",
    "\n",
    "    return distance\n",
    "\n",
    "# Ввод координат пользователем\n",
    "lat1 = float(input(\"Введите широту первой точки: \"))\n",
    "lon1 = float(input(\"Введите долготу первой точки: \"))\n",
    "lat2 = float(input(\"Введите широту второй точки: \"))\n",
    "lon2 = float(input(\"Введите долготу второй точки: \"))\n",
    "\n",
    "# Расчет расстояния\n",
    "distance = haversine(lat1, lon1, lat2, lon2)\n",
    "print(f\"Расстояние между точками: {round(distance,2)} километров\")"
   ]
  },
  {
   "cell_type": "markdown",
   "id": "f082ea61",
   "metadata": {},
   "source": [
    "### Задача 2 (максимальная сумма)\n",
    "\n",
    "Ввести в столбик последовательность целых (положительных и отрицательных) чисел, не равных нулю; в конце этой последовательности стоит 0. Вывести наибольшую сумму последовательно идущих элементов этой последовательности (не менее одного).\n",
    "\n"
   ]
  },
  {
   "cell_type": "code",
   "execution_count": 1,
   "id": "1018430c",
   "metadata": {},
   "outputs": [
    {
     "name": "stdout",
     "output_type": "stream",
     "text": [
      "-2\n",
      "-3\n",
      "4\n",
      "5\n",
      "7\n",
      "10\n",
      "-23\n",
      "15\n",
      "17\n",
      "0\n",
      "Максимальная сумма : 35\n"
     ]
    }
   ],
   "source": [
    "# алгоритм Кадана использовать можно\n",
    "def max_subarray_sum(numbers):\n",
    "    max_sum = numbers[0]\n",
    "    current_sum = numbers[0]\n",
    "\n",
    "    for number in numbers[1:]:\n",
    "        current_sum = max(number, current_sum + number)\n",
    "        max_sum = max(max_sum, current_sum)\n",
    "\n",
    "    return max_sum\n",
    "\n",
    "numbers = []\n",
    "while True:\n",
    "    number = int(input())\n",
    "    if number == 0:\n",
    "        break\n",
    "    numbers.append(number)\n",
    "\n",
    "if not numbers:\n",
    "    print(\"Пусто\")\n",
    "else:\n",
    "    result = max_subarray_sum(numbers)\n",
    "    print(f'Максимальная сумма : {result}')\n"
   ]
  },
  {
   "cell_type": "markdown",
   "id": "1744bcff",
   "metadata": {},
   "source": [
    "### Задача 3 (сумма кубов)\n",
    "\n",
    "Ввести натуральное число N и вывести, сколько существует различных пар натуральных чисел A и B: A³+B³=N (с точностью до перестановки).  Вещественные операции (например, кубический корень) рекомендуется использовать как можно реже."
   ]
  },
  {
   "cell_type": "code",
   "execution_count": 8,
   "id": "d50b51b1",
   "metadata": {},
   "outputs": [
    {
     "name": "stdout",
     "output_type": "stream",
     "text": [
      "121\n",
      "Количество пар (A, B), где A³ + B³ = 121, с точностью до перестановки: 0\n"
     ]
    }
   ],
   "source": [
    "def count_cubic_pairs(N):\n",
    "    count = 0\n",
    "\n",
    "    for A in range(1, N + 1):\n",
    "        for B in range(A, N + 1):\n",
    "            if A**3 + B**3 == N:\n",
    "                count += 1\n",
    "\n",
    "    return count\n",
    "\n",
    "N = int(input())\n",
    "\n",
    "result = count_cubic_pairs(N)\n",
    "print(f\"Количество пар (A, B), где A³ + B³ = {N}, с точностью до перестановки: {result}\")\n"
   ]
  },
  {
   "cell_type": "markdown",
   "id": "babe76f4",
   "metadata": {},
   "source": [
    "### Задача 4 (Разложение на множители)\n",
    "Ввести произвольное натуральное число, не превосходящее 1000000000 \n",
    "\n",
    "Вывести (через «*») все его разложения на натуральные сомножители, превосходящие 1, без учёта перестановок. Сомножители в каждом разложении и сами разложения (как последовательности) при выводе должны быть упорядочены по возрастанию. Само число также считается разложением."
   ]
  },
  {
   "cell_type": "code",
   "execution_count": 72,
   "id": "f2a4b4eb",
   "metadata": {},
   "outputs": [
    {
     "name": "stdout",
     "output_type": "stream",
     "text": [
      "400\n",
      "2 * 2 * 2 * 2 * 5 * 5\n",
      "5 * 2 * 5\n",
      "4 * 5 * 5\n",
      "5 * 2 * 2 * 5\n",
      "4 * 5\n",
      "10 * 2 * 5\n",
      "4 * 2 * 5 * 5\n",
      "5 * 2 * 5\n",
      "5 * 2 * 2 * 2 * 5\n",
      "4 * 5\n",
      "4 * 2 * 5\n",
      "5 * 2 * 2 * 2\n",
      "8 * 5 * 5\n",
      "10 * 2 * 2 * 5\n",
      "4 * 5\n",
      "4 * 2 * 2 * 5 * 5\n",
      "5 * 2 * 5\n",
      "4 * 5 * 5\n",
      "5 * 2 * 2 * 5\n",
      "4 * 5\n",
      "10 * 2 * 5\n",
      "5 * 2 * 2 * 2 * 2 * 5\n",
      "4 * 5\n",
      "4 * 2 * 5\n",
      "5 * 2 * 2 * 2\n",
      "4 * 2 * 2 * 5\n",
      "4 * 5\n",
      "5 * 2 * 2 * 2 * 2\n",
      "4 * 2 * 2\n",
      "8 * 2 * 5\n",
      "8 * 2 * 5 * 5\n",
      "5 * 2 * 5\n",
      "10 * 2 * 2 * 2 * 5\n",
      "4 * 5\n",
      "4 * 2 * 5\n",
      "5 * 2 * 2 * 2\n",
      "16 * 5 * 5\n",
      "20 * 2 * 2 * 5\n",
      "4 * 5\n"
     ]
    }
   ],
   "source": [
    "def factorize(n):\n",
    "    divisor = 2\n",
    "    found_divisor = False\n",
    "    \n",
    "    while divisor * divisor <= n:\n",
    "        if n % divisor == 0:\n",
    "            print(divisor, '*', end=\" \")\n",
    "            factorize(n // divisor)\n",
    "            found_divisor = True\n",
    "        divisor += 1\n",
    "    \n",
    "    if not found_divisor:\n",
    "        print(n)\n",
    "\n",
    "number = int(input())\n",
    "factorize(number)\n"
   ]
  },
  {
   "cell_type": "markdown",
   "id": "f5a61434",
   "metadata": {},
   "source": [
    "### Задача 5 (Переворот числа)\n",
    "Пусть на вход дается челое 32-х битное число (может быть и отрицательное)\n",
    "\n",
    "Необходимо вернуть его перевернутую версию, например, для числа -123 ответом будет -321, а для числа -1 будет 1, а для 10101010 - 101010\n",
    "\n",
    "Пользоваться строковыми методами *нельзя*"
   ]
  },
  {
   "cell_type": "code",
   "execution_count": 17,
   "id": "6657b0f2",
   "metadata": {},
   "outputs": [
    {
     "name": "stdout",
     "output_type": "stream",
     "text": [
      "101010\n",
      "10101\n"
     ]
    }
   ],
   "source": [
    "n = int(input())\n",
    " \n",
    "digit = n % 10\n",
    "n2 = digit\n",
    "\n",
    "n = n // 10\n",
    " \n",
    "while n > 0:\n",
    "\n",
    "    digit = n % 10\n",
    "\n",
    "    n = n // 10\n",
    "\n",
    "    n2 = n2 * 10\n",
    "\n",
    "    n2 = n2 + digit\n",
    " \n",
    "print(n2)"
   ]
  },
  {
   "cell_type": "markdown",
   "id": "2d504bd6",
   "metadata": {},
   "source": [
    "### Задача 6 (Перевод числа в римской записи а арабскую):\n",
    "\n",
    "На вход подается строка, представляющая натуральное число в римской записи (из символов I, V, X, C, L, M). Требуется представить его в арабской записи. Подробнее про арабские числа можно почитать на [википедии](https://ru.wikipedia.org/wiki/%D0%A0%D0%B8%D0%BC%D1%81%D0%BA%D0%B8%D0%B5_%D1%86%D0%B8%D1%84%D1%80%D1%8B)"
   ]
  },
  {
   "cell_type": "code",
   "execution_count": 22,
   "id": "ac7aa1fa",
   "metadata": {},
   "outputs": [
    {
     "name": "stdout",
     "output_type": "stream",
     "text": [
      "Введите число в римской записи: XXVI\n",
      "Арабская запись числа: 26\n"
     ]
    }
   ],
   "source": [
    "def roman_to_arabic(roman):\n",
    "    roman_dict = {'I': 1, 'V': 5, 'X': 10, 'L': 50, 'C': 100, 'D': 500, 'M': 1000}\n",
    "    arabic = 0\n",
    "\n",
    "    for i in range(len(roman)):\n",
    "        if i > 0 and roman_dict[roman[i]] > roman_dict[roman[i - 1]]:\n",
    "            arabic += roman_dict[roman[i]] - 2 * roman_dict[roman[i - 1]]\n",
    "        else:\n",
    "            arabic += roman_dict[roman[i]]\n",
    "\n",
    "    return arabic\n",
    "\n",
    "\n",
    "roman_input = input(\"Введите число в римской записи: \").upper()\n",
    "\n",
    "arabic_result = roman_to_arabic(roman_input)\n",
    "print(f\"Арабская запись числа: {arabic_result}\")\n"
   ]
  },
  {
   "cell_type": "markdown",
   "id": "9a5394dc",
   "metadata": {},
   "source": [
    "### Задача 7 (Группировка итератора)\n",
    "\n",
    "Напишите итератор (вспомните про **yield**), которая возвращает строку длины N\n",
    "\n",
    "Напишите вспомогательную функцию, которая будет принимать результат итератора и комбинировать его в чанки заданной длины\n"
   ]
  },
  {
   "cell_type": "code",
   "execution_count": 58,
   "id": "51e53410",
   "metadata": {},
   "outputs": [
    {
     "name": "stdout",
     "output_type": "stream",
     "text": [
      "('s', 'z')\n",
      "('f', 'r')\n",
      "('l', 'b')\n",
      "('j', 'd')\n",
      "('f', 's')\n"
     ]
    }
   ],
   "source": [
    "import random\n",
    "import string\n",
    "import itertools\n",
    "\n",
    "def my_string_generator(N):\n",
    "    letters = string.ascii_lowercase + string.digits\n",
    "    return ''.join(random.choice(letters) for _ in range(N))\n",
    "\n",
    "def chunker(iterable, chunk_size=2):\n",
    "    it = iter(iterable)\n",
    "    while True:\n",
    "        chunk = tuple(itertools.islice(it, chunk_size))\n",
    "        if not chunk:\n",
    "            break\n",
    "        yield chunk\n",
    "\n",
    "N = 10\n",
    "chunk_size = 2\n",
    "\n",
    "my_string = my_string_generator(N)\n",
    "for chunk in chunker(my_string, chunk_size):\n",
    "    print(chunk)\n"
   ]
  },
  {
   "cell_type": "markdown",
   "id": "c38998a1",
   "metadata": {},
   "source": [
    "### Задача 8 (Декоратор-ретрай)\n",
    "\n",
    "Напишите функцию, которая принимает число N и с вероятностью 1/N возвращает строку, а в остальных случаях порождает исключение.\n",
    "\n",
    "Напишите декоратор, который пытается выполнить функцию заданное кол-во раз и задекорируйте ее.\n"
   ]
  },
  {
   "cell_type": "code",
   "execution_count": 32,
   "id": "fa80bb16",
   "metadata": {},
   "outputs": [
    {
     "name": "stdout",
     "output_type": "stream",
     "text": [
      "Attempt failed: Unlucky number\n",
      "Attempt failed: Unlucky number\n",
      "Attempt failed: Unlucky number\n",
      "Attempt failed: Unlucky number\n",
      "Attempt failed: Unlucky number\n",
      "Error: Function failed after 5 attempts\n"
     ]
    }
   ],
   "source": [
    "import random\n",
    "\n",
    "def try_n_times(n):\n",
    "    def decorator(func):\n",
    "        def wrapper(*args, **kwargs):\n",
    "            for _ in range(n):\n",
    "                try:\n",
    "                    result = func(*args, **kwargs)\n",
    "                    return result\n",
    "                except Exception as e:\n",
    "                    print(f\"Attempt failed: {e}\")\n",
    "            raise Exception(f\"Function failed after {n} attempts\")\n",
    "        return wrapper\n",
    "    return decorator\n",
    "\n",
    "@try_n_times(5)\n",
    "def random_string_with_probability(n):\n",
    "    if random.randint(1, n) == 1:\n",
    "        return \"Success!\"\n",
    "    else:\n",
    "        raise ValueError(\"Unlucky number\")\n",
    "\n",
    "try:\n",
    "    result = random_string_with_probability(5)\n",
    "    print(result)\n",
    "except Exception as e:\n",
    "    print(f\"Error: {e}\")\n"
   ]
  },
  {
   "cell_type": "markdown",
   "id": "85cb492e",
   "metadata": {},
   "source": [
    "### Задание 9 (Использование паттера Singleton)\n",
    "\n",
    "Найдите на github примеры кода (5 штук), где применяется паттерн singleton. У репозитория, в которым вы ищите, должно быть более 10 звездочек.\n",
    "\n",
    "Ниже вставьте примеры такого кода (5 штук) и напишите где именно используется паттерн и зачем"
   ]
  },
  {
   "cell_type": "markdown",
   "id": "173baae6",
   "metadata": {},
   "source": [
    "https://github.com/steinitzu/celery-singleton\n",
    "    \n",
    "https://github.com/Kemaweyan/singleton_decorator\n",
    "\n",
    "https://github.com/shakefu/pyconfig\n",
    "\n",
    "https://github.com/pycontribs/tendo\n",
    "\n",
    "https://github.com/reyoung/singleton"
   ]
  },
  {
   "cell_type": "markdown",
   "id": "9426bdf7",
   "metadata": {},
   "source": [
    "### Задача 10 (Решатель судоку)\n",
    "\n",
    "Напишите программу, которая принимает матричку 9*9 (список списков), которая представляет собой кроссворд-судоку.\n",
    "В местах, куда надо вставить значения - -**1**\n",
    "\n",
    "И напишите функцию (функции), которые решают судоку и выводят результат"
   ]
  },
  {
   "cell_type": "code",
   "execution_count": 59,
   "id": "ffac77f0",
   "metadata": {},
   "outputs": [
    {
     "name": "stdout",
     "output_type": "stream",
     "text": [
      "Решенное судоку:\n",
      "5 3 4 6 7 8 9 1 2\n",
      "6 7 2 1 9 5 3 4 8\n",
      "1 9 8 3 4 2 5 6 7\n",
      "8 5 9 7 6 1 4 2 3\n",
      "4 2 6 8 5 3 7 9 1\n",
      "7 1 3 9 2 4 8 5 6\n",
      "9 6 1 5 3 7 2 8 4\n",
      "2 8 7 4 1 9 6 3 5\n",
      "3 4 5 2 8 6 1 7 9\n"
     ]
    }
   ],
   "source": [
    "def is_valid(board, row, col, num):\n",
    "    # Проверка, можно ли поставить число num в данную ячейку\n",
    "    for i in range(9):\n",
    "        if board[row][i] == num or board[i][col] == num or board[3 * (row // 3) + i // 3][3 * (col // 3) + i % 3] == num:\n",
    "            return False\n",
    "    return True\n",
    "\n",
    "def solve_sudoku(board):\n",
    "    for i in range(9):\n",
    "        for j in range(9):\n",
    "            if board[i][j] == -1:\n",
    "                for num in range(1, 10):\n",
    "                    if is_valid(board, i, j, num):\n",
    "                        board[i][j] = num\n",
    "                        if solve_sudoku(board):\n",
    "                            return True\n",
    "                        board[i][j] = -1\n",
    "                return False\n",
    "    return True\n",
    "\n",
    "def print_sudoku(board):\n",
    "    for row in board:\n",
    "        print(\" \".join(map(str, row)))\n",
    "\n",
    "\n",
    "sudoku_board = [\n",
    "    [5, 3, -1, -1, 7, -1, -1, -1, -1],\n",
    "    [6, -1, -1, 1, 9, 5, -1, -1, -1],\n",
    "    [-1, 9, 8, -1, -1, -1, -1, 6, -1],\n",
    "    [8, -1, -1, -1, 6, -1, -1, -1, 3],\n",
    "    [4, -1, -1, 8, -1, 3, -1, -1, 1],\n",
    "    [7, -1, -1, -1, 2, -1, -1, -1, 6],\n",
    "    [-1, 6, -1, -1, -1, -1, 2, 8, -1],\n",
    "    [-1, -1, -1, 4, 1, 9, -1, -1, 5],\n",
    "    [-1, -1, -1, -1, 8, -1, -1, 7, 9]\n",
    "]\n",
    "\n",
    "if solve_sudoku(sudoku_board):\n",
    "    print(\"Решенное судоку:\")\n",
    "    print_sudoku(sudoku_board)\n",
    "else:\n",
    "    print(\"Решение не найдено.\")\n"
   ]
  },
  {
   "cell_type": "markdown",
   "id": "248cd2e9",
   "metadata": {},
   "source": [
    "### Задача 11 (сколько гостей было в отеле одномоментно)\n",
    "Представьте, что вы - менеджер отеля и хотите знать, сколько гостей было в отеле максимально за весь период.\n",
    "\n",
    "Каждый гость характеризуется тюплом (day_start, day_end), который показывает, когда гость заселился и выселился из отеля. Имейте в виду, что время заселения всегда больше, чем время выселения, то есть гости (1, 6) и (6, 8) не пересекались друг с другом.\n",
    "\n",
    "Напишите функцию, которая позволяет определить, сколько гостей в отеле было максимально. Входные данные вышей функции - список из тюплов.\n",
    "\n",
    "Примеры: \n",
    "\n",
    "    1. [(0, 1), (1, 2), (0, 3)] -> 2\n",
    "    2. [(10, 20), (5, 7), (5, 20), (20, 21)] -> 3"
   ]
  },
  {
   "cell_type": "code",
   "execution_count": 63,
   "id": "4498c2b7",
   "metadata": {},
   "outputs": [
    {
     "name": "stdout",
     "output_type": "stream",
     "text": [
      "2\n",
      "2\n"
     ]
    }
   ],
   "source": [
    "def max_guests(tuples):\n",
    "    events = []\n",
    "    \n",
    "    for tup in tuples:\n",
    "        events.append((tup[0], 1))\n",
    "        events.append((tup[1], -1))\n",
    "    \n",
    "\n",
    "    events.sort()\n",
    "    \n",
    "    current_guests = 0\n",
    "    max_guests = 0\n",
    "\n",
    "    for event in events:\n",
    "        current_guests += event[1]\n",
    "        max_guests = max(max_guests, current_guests)\n",
    "    \n",
    "    return max_guests\n",
    "\n",
    "\n",
    "print(max_guests([(0, 1), (1, 2), (0, 3)]))\n",
    "print(max_guests([(10, 20), (5, 7), (5, 20), (20, 21)]))\n"
   ]
  },
  {
   "cell_type": "markdown",
   "id": "137f0bc6",
   "metadata": {},
   "source": [
    "### Задача 12 (проверка на центр отрезка)\n",
    "\n",
    "Пусть у вас есть 3 числа - первые два задают начало и конец отрезка, а третье - предполагаемую середину. Все вводные значения - float\n",
    "\n",
    "Необходимо написать функцию, которая проверяет, является ли третье число серединой отрезка.\n"
   ]
  },
  {
   "cell_type": "code",
   "execution_count": 34,
   "id": "f62dd431",
   "metadata": {},
   "outputs": [
    {
     "name": "stdout",
     "output_type": "stream",
     "text": [
      "Введите начало отрезка: 1\n",
      "Введите конец отрезка: 5\n",
      "Введите предполагаемую середину отрезка: 3\n",
      "3.0 является серединой отрезка от 1.0 до 5.0.\n"
     ]
    }
   ],
   "source": [
    "def is_middle_of_segment(start, end, middle):\n",
    "\n",
    "    start, end = min(start, end), max(start, end)\n",
    "\n",
    "\n",
    "    return start < middle < end and middle == (start + end) / 2\n",
    "\n",
    "# Пример использования\n",
    "start_point = float(input(\"Введите начало отрезка: \"))\n",
    "end_point = float(input(\"Введите конец отрезка: \"))\n",
    "middle_point = float(input(\"Введите предполагаемую середину отрезка: \"))\n",
    "\n",
    "result = is_middle_of_segment(start_point, end_point, middle_point)\n",
    "\n",
    "if result:\n",
    "    print(f\"{middle_point} является серединой отрезка от {start_point} до {end_point}.\")\n",
    "else:\n",
    "    print(f\"{middle_point} не является серединой отрезка от {start_point} до {end_point}.\")\n"
   ]
  },
  {
   "cell_type": "markdown",
   "id": "f4d56a8b",
   "metadata": {},
   "source": [
    "### Задача 13 (классы)\n",
    "\n",
    "Это задача дает большой простор для креатива. Вам надо написать класс (или классы), где вы продемонстрируйте владение такими штуками, как проперти, классметод, статикметод, магические методы (достаточно показать владение несколькими из них)."
   ]
  },
  {
   "cell_type": "code",
   "execution_count": 66,
   "id": "7886610e",
   "metadata": {},
   "outputs": [
    {
     "name": "stdout",
     "output_type": "stream",
     "text": [
      "Счет Иван Иванов, баланс: 1000\n",
      "Счет Петр Петров, баланс: 500\n",
      "Баланс account1: 1000\n",
      "Установка нового баланса: 1500\n",
      "Всего открыто счетов: 2\n",
      "Валидный ли номер счета? True\n",
      "Длина account1: 11\n",
      "Счет Иван Иванов + Петр Петров, баланс: 2000\n"
     ]
    }
   ],
   "source": [
    "class BankAccount:\n",
    "    # общее количества созданных счетов\n",
    "    total_accounts_count = 0\n",
    "\n",
    "    def __init__(self, owner, balance=0):\n",
    "        self.owner = owner\n",
    "        self._balance = balance  # Используем защищенное свойство для баланса\n",
    "        BankAccount.total_accounts_count += 1\n",
    "\n",
    "    @property\n",
    "    def balance(self):\n",
    "        return self._balance\n",
    "\n",
    "    @balance.setter\n",
    "    def balance(self, value):\n",
    "        if value < 0:\n",
    "            print(\"Баланс не может быть отрицательным.\")\n",
    "        else:\n",
    "            print(\"Установка нового баланса:\", value)\n",
    "            self._balance = value\n",
    "\n",
    "    @classmethod\n",
    "    def total_accounts(cls):\n",
    "        print(\"Всего открыто счетов:\", cls.total_accounts_count)\n",
    "\n",
    "    @staticmethod\n",
    "    def is_valid_account_number(account_number):\n",
    "        # проверка валидности номера счета\n",
    "        return len(str(account_number)) == 10\n",
    "\n",
    "    def __str__(self):\n",
    "        return f\"Счет {self.owner}, баланс: {self._balance}\"\n",
    "\n",
    "    def __len__(self):\n",
    "        # количество символов в имени владельца\n",
    "        return len(self.owner)\n",
    "\n",
    "    def __add__(self, other):\n",
    "        # суммирование балансов\n",
    "        if isinstance(other, BankAccount):\n",
    "            return BankAccount(f\"{self.owner} + {other.owner}\", self._balance + other.balance)\n",
    "        else:\n",
    "            raise TypeError(\"Нельзя сложить счет с объектом другого типа.\")\n",
    "\n",
    "# Пример использования класса\n",
    "account1 = BankAccount(\"Иван Иванов\", 1000)\n",
    "account2 = BankAccount(\"Петр Петров\", 500)\n",
    "\n",
    "print(account1)\n",
    "print(account2)\n",
    "\n",
    "# property\n",
    "print(\"Баланс account1:\", account1.balance)\n",
    "\n",
    "# setter через property\n",
    "account1.balance = 1500\n",
    "\n",
    "# classmethod\n",
    "BankAccount.total_accounts()\n",
    "\n",
    "# staticmethod\n",
    "print(\"Валидный ли номер счета?\", BankAccount.is_valid_account_number(1234567890))\n",
    "\n",
    "# магические методы\n",
    "print(\"Длина account1:\", len(account1))\n",
    "\n",
    "account_sum = account1 + account2\n",
    "print(account_sum)\n"
   ]
  },
  {
   "cell_type": "code",
   "execution_count": null,
   "id": "d3573768",
   "metadata": {},
   "outputs": [],
   "source": []
  }
 ],
 "metadata": {
  "kernelspec": {
   "display_name": "Python 3 (ipykernel)",
   "language": "python",
   "name": "python3"
  },
  "language_info": {
   "codemirror_mode": {
    "name": "ipython",
    "version": 3
   },
   "file_extension": ".py",
   "mimetype": "text/x-python",
   "name": "python",
   "nbconvert_exporter": "python",
   "pygments_lexer": "ipython3",
   "version": "3.7.12"
  },
  "toc": {
   "base_numbering": 1,
   "nav_menu": {},
   "number_sections": true,
   "sideBar": true,
   "skip_h1_title": false,
   "title_cell": "Table of Contents",
   "title_sidebar": "Contents",
   "toc_cell": false,
   "toc_position": {},
   "toc_section_display": true,
   "toc_window_display": false
  }
 },
 "nbformat": 4,
 "nbformat_minor": 5
}
